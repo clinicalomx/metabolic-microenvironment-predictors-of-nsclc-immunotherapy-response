{
 "cells": [
  {
   "cell_type": "markdown",
   "id": "80ad02a8-327e-454b-8583-6081f24ad933",
   "metadata": {},
   "source": [
    "# Installation"
   ]
  },
  {
   "cell_type": "raw",
   "id": "d0de5fcc-dac4-4e4e-a67b-b89f3fe51d89",
   "metadata": {},
   "source": [
    "#Analysis environment setup\n",
    "\n",
    "conda create -n analysis python=3.10 matplotlib seaborn jupyterlab anndata scanpy\n",
    "conda activate analysis\n",
    "pip install squidpy\n",
    "\n",
    "git clone https://{PAK}@github.com/clinicalomx/spatial_analysis.git\n",
    "cd spatial_analysis\n",
    "pip install .\n",
    "cd ..\n",
    "\n",
    "pip install PyComplexHeatmap glasbey scikit-survival\n",
    "\n",
    "pip install git+https://github.com/gregbellan/Stabl.git@v1.0.1-lw\n",
    "pip install scikit-learn==1.5.2"
   ]
  },
  {
   "cell_type": "code",
   "execution_count": 1,
   "id": "5d28e4b8-6b8d-447f-9fbe-eeafd749cfce",
   "metadata": {},
   "outputs": [],
   "source": [
    "import numpy as np\n",
    "import pandas as pd\n",
    "import anndata as ad"
   ]
  },
  {
   "cell_type": "markdown",
   "id": "356f75fb-10cb-4883-b15d-9870205633d0",
   "metadata": {},
   "source": [
    "## Read in Clinical Data"
   ]
  },
  {
   "cell_type": "code",
   "execution_count": 4,
   "id": "ab1c59b9-129e-4b60-aaa8-56b68d04a17c",
   "metadata": {},
   "outputs": [],
   "source": [
    "clinical = pd.read_csv(r'clinicalData/yale_clinical_data.csv')\n",
    "clinical = clinical.rename(columns= {'case_id':\"patient_id\"})\n",
    "\n",
    "nsclc_predtab        = pd.read_csv(r'clinicalData/yale_results_predictions.csv')\n",
    "nsclc_probabalities  = pd.read_csv(r'clinicalData/yale_results_probabilities.csv')"
   ]
  },
  {
   "cell_type": "code",
   "execution_count": 5,
   "id": "aa5965e9-201b-464a-8d89-5d34dc0119eb",
   "metadata": {},
   "outputs": [
    {
     "data": {
      "text/plain": [
       "195"
      ]
     },
     "execution_count": 5,
     "metadata": {},
     "output_type": "execute_result"
    }
   ],
   "source": [
    "len(clinical['patient_id'].unique())"
   ]
  },
  {
   "cell_type": "code",
   "execution_count": 6,
   "id": "5e065898-27d9-449b-9716-b134fa6bfe3b",
   "metadata": {},
   "outputs": [
    {
     "data": {
      "text/plain": [
       "{404, 471, 496, 523}"
      ]
     },
     "execution_count": 6,
     "metadata": {},
     "output_type": "execute_result"
    }
   ],
   "source": [
    "set(nsclc_predtab['cohort'])"
   ]
  },
  {
   "cell_type": "code",
   "execution_count": 7,
   "id": "5c473bc7-62ea-488c-ab0e-f9b795358540",
   "metadata": {
    "scrolled": true
   },
   "outputs": [],
   "source": [
    "nsclc_pred     = nsclc_predtab[nsclc_predtab.cohort.isin([404, 471])].reset_index(drop=True)\n",
    "nsclc_probs    = nsclc_probabalities[nsclc_probabalities.cohort.isin([404, 471])].reset_index(drop=True)\n",
    "nsclc_clinical = clinical[clinical.cohort.isin([404, 471])].reset_index(drop=True)"
   ]
  },
  {
   "cell_type": "code",
   "execution_count": 8,
   "id": "11bd3605-98a6-4ff3-8d9b-909265c7098b",
   "metadata": {},
   "outputs": [
    {
     "data": {
      "text/plain": [
       "Index(['Unnamed: 0', 'slide_id', 'inclusion', 'patient_id', 'file_name',\n",
       "       'cohort', 'tumor_type', 'pre_post', 'histology_type', 'biopsy_site',\n",
       "       'BOR', 'OR', 'CB6', 'PORvsFPD', 'pfs.T', 'pfs.E', 'os.T', 'os.E',\n",
       "       'pfs.6months', 'pfs.12months', 'OS.18months', 'OS.24months'],\n",
       "      dtype='object')"
      ]
     },
     "execution_count": 8,
     "metadata": {},
     "output_type": "execute_result"
    }
   ],
   "source": [
    "clinical.keys()"
   ]
  },
  {
   "cell_type": "code",
   "execution_count": 9,
   "id": "911ee734-4339-4f17-9bcf-7145c90fa038",
   "metadata": {},
   "outputs": [
    {
     "data": {
      "text/plain": [
       "117"
      ]
     },
     "execution_count": 9,
     "metadata": {},
     "output_type": "execute_result"
    }
   ],
   "source": [
    "# Cohorts in the dataset\n",
    "len(set(nsclc_clinical['patient_id']))"
   ]
  },
  {
   "cell_type": "code",
   "execution_count": 15,
   "id": "657fe8e3-86f3-4066-8380-a5364eb2090c",
   "metadata": {},
   "outputs": [],
   "source": [
    "# Import cell morphology measures\n",
    "nsclc_quant  = pd.read_csv(r'clinicalData/yale_nsclc_quantification_tables_6_6_2024_filtered.csv')\n",
    "\n",
    "renamedict = {d: d.replace('_', '') for d in nsclc_quant.columns}\n",
    "nsclc_quant = nsclc_quant.rename(columns=renamedict)"
   ]
  },
  {
   "cell_type": "code",
   "execution_count": 17,
   "id": "de2b0081-a29f-46c8-8e6c-108e7b67a74d",
   "metadata": {},
   "outputs": [
    {
     "name": "stderr",
     "output_type": "stream",
     "text": [
      "/tmp/ipykernel_398004/525640865.py:2: DtypeWarning: Columns (0) have mixed types. Specify dtype option on import or set low_memory=False.\n",
      "  nsclc_pfeat = pd.read_csv(r'clinicalData/yale nsclc patient features v05 filtered.csv')\n"
     ]
    }
   ],
   "source": [
    "# Import patient metadata\n",
    "nsclc_pfeat = pd.read_csv(r'clinicalData/yale nsclc patient features v05 filtered.csv')"
   ]
  },
  {
   "cell_type": "code",
   "execution_count": 18,
   "id": "4165596e-e5af-4920-8294-889d386dad5d",
   "metadata": {},
   "outputs": [],
   "source": [
    "# Overall neighborhood features\n",
    "nsclc_pneigh = pd.read_csv(r'clinicalData/yale nsclc patient neighbor features v05 filtered.csv')"
   ]
  },
  {
   "cell_type": "markdown",
   "id": "bb1b349f-b9b1-48e8-8ff9-7e30852983ff",
   "metadata": {},
   "source": [
    "## Change Cell Type Names"
   ]
  },
  {
   "cell_type": "code",
   "execution_count": 23,
   "id": "9f7f3331-fe00-49ed-bb6e-0ffdaa063f4a",
   "metadata": {},
   "outputs": [],
   "source": [
    "renamedict = {d: d.replace('_', '') for d in nsclc_pred.columns}\n",
    "nsclc_pred = nsclc_pred.rename(columns=renamedict)\n",
    "\n",
    "renamedict = {d: d.replace('_', '') for d in nsclc_probs.columns}\n",
    "nsclc_probs = nsclc_probs.rename(columns=renamedict)\n",
    "\n",
    "renamedict = {d: d.replace('_', '') for d in nsclc_clinical.columns}\n",
    "nsclc_clinical = nsclc_clinical.rename(columns=renamedict)"
   ]
  },
  {
   "cell_type": "markdown",
   "id": "082d3f71-0018-4bfb-9720-ac91fba5750e",
   "metadata": {},
   "source": [
    "## Reassign UUIDs to Match the Measurement Files"
   ]
  },
  {
   "cell_type": "code",
   "execution_count": 24,
   "id": "62bd6755-bbdc-42c7-876f-9faebf5fdce2",
   "metadata": {},
   "outputs": [],
   "source": [
    "nsclc_quant_temp = []\n",
    "\n",
    "for _, pat in nsclc_quant.groupby(by='slideid'):\n",
    "    pat['slideid'] = _\n",
    "    pat['uuid'] = pat['slideid'] + '_' + np.array(list(range(1, len(pat)+1)), dtype=str)\n",
    "    nsclc_quant_temp.append(pat)\n",
    "\n",
    "nsclc_quant = pd.concat(nsclc_quant_temp)"
   ]
  },
  {
   "cell_type": "markdown",
   "id": "9abcd662-8df7-414d-aa0a-2f5ba622a42d",
   "metadata": {},
   "source": [
    "## Merging them together"
   ]
  },
  {
   "cell_type": "code",
   "execution_count": 25,
   "id": "fb1df1d2-b9f7-4bba-9742-60bcf0560db5",
   "metadata": {},
   "outputs": [],
   "source": [
    "# clean cols\n",
    "featurecolstokeep = ['patient_id', 'feature_name', 'feature_value', 'n', 'feature_family']\n",
    "\n",
    "nsclc_pfeat = nsclc_pfeat[featurecolstokeep]\n",
    "nsclc_pneigh = nsclc_pneigh[featurecolstokeep]\n",
    "\n",
    "# Rename columns\n",
    "qmetacols = ['nuclear_area_um2', 'membrane_area_um2', 'nuclear_eccentricity', 'membrane_eccentricity',\n",
    "             'nuclear_perimeter', 'membrane_perimeter', 'nuclear_solidity', 'membrane_solidity', \n",
    "             'nuclear_major_axis_length', 'membrane_major_axis_length', 'nuclear_minor_axis_length', \n",
    "             'membrane_minor_axis_length', 'nuclear_feret_diameter_max', 'membrane_feret_diameter_max']\n",
    "qmetacols = [a.replace('_', '') for a in qmetacols]\n",
    "qcols =  ['cd45ro_nuclear', 'hlaa_nuclear', 'cd4_nuclear', 'ecadherin_nuclear', 'cd20_nuclear', 'cd68_nuclear', 'cd8_nuclear', 'cd14_nuclear', 'cd11c_nuclear', 'cd44_nuclear', 'vimentin_nuclear', 'cd45_nuclear', 'granzymeb_nuclear', 'cd34_nuclear', 'cd3e_nuclear', 'lag3_nuclear', 'cd31_nuclear', 'pdl1_nuclear', 'icos_nuclear', 'nakatpase_nuclear', 'foxp3_nuclear', 'cd19_nuclear', 'cd163_nuclear', 'pax5_nuclear', 'g6pd_nuclear', 'pd1_nuclear', 'cd21_nuclear', 'sma_nuclear', 'cd11b_nuclear', 'ido1_nuclear', 'pnrf2_nuclear', 'cd57_nuclear', 'col4_nuclear', 'atpa5_nuclear', 'citratesynthase_nuclear', 'asct2_nuclear', 'sdha_nuclear', 'hexokinase1_nuclear', 'idh2_nuclear', 'glut1_nuclear', 'ldha_nuclear', 'ki67_nuclear', 'pancytokeratin_nuclear', 'cpt1a_nuclear', 'cd45ro_membrane', 'hlaa_membrane', 'cd4_membrane', 'ecadherin_membrane', 'cd20_membrane', 'cd68_membrane', 'cd8_membrane', 'cd14_membrane', 'cd11c_membrane', 'cd44_membrane', 'vimentin_membrane', 'cd45_membrane', 'granzymeb_membrane', 'cd34_membrane', 'cd3e_membrane', 'lag3_membrane', 'cd31_membrane', 'pdl1_membrane', 'icos_membrane', 'nakatpase_membrane', 'foxp3_membrane', 'cd19_membrane', 'cd163_membrane', 'pax5_membrane', 'g6pd_membrane', 'pd1_membrane', 'cd21_membrane', 'sma_membrane', 'cd11b_membrane', 'ido1_membrane', 'pnrf2_membrane', 'cd57_membrane', 'col4_membrane', 'atpa5_membrane', 'citratesynthase_membrane', 'asct2_membrane', 'sdha_membrane', 'hexokinase1_membrane', 'idh2_membrane', 'glut1_membrane', 'ldha_membrane', 'ki67_membrane', 'pancytokeratin_membrane', 'cpt1a_membrane']\n",
    "qcols = [a.replace('_', '') for a in qcols]\n",
    "\n",
    "#select NSCLC samples\n",
    "nsclcq = nsclc_quant[qcols]\n",
    "nsclcqmeta= nsclc_quant[qmetacols]"
   ]
  },
  {
   "cell_type": "markdown",
   "id": "af0dfadc-73f3-4a3e-a338-0176cc605253",
   "metadata": {},
   "source": [
    "## Merge on  UUIDs"
   ]
  },
  {
   "cell_type": "code",
   "execution_count": 26,
   "id": "26ccc1cf-ffcc-46c2-8f3b-c312e08cf63b",
   "metadata": {},
   "outputs": [],
   "source": [
    "def removemod(x):\n",
    "   x = x.replace('nuclear','')\n",
    "   return x"
   ]
  },
  {
   "cell_type": "code",
   "execution_count": 27,
   "id": "e96e88ec-1c00-47aa-8251-7aa2eabf5b10",
   "metadata": {},
   "outputs": [],
   "source": [
    "nucs = (list(nsclcq.filter(like = 'nuclear', axis=1 )))\n",
    "mems = (list(nsclcq.filter(like = 'membrane', axis=1 )))\n",
    "col_pairs = list(map(list, zip(nucs, mems)))\n",
    "\n",
    "# in a list comprehension iterate through each column pair, get the mean, and concat the results into a dataframe\n",
    "nsclcq_means = pd.concat([nsclcq[pairs].mean(axis=1) for pairs in col_pairs], axis=1)\n",
    "\n",
    "# in a list comprehension create column header names with a string join \n",
    "nsclcq_means.columns = nucs#[' & '.join(pair) for pair in col_pairs]\n",
    "nsclcq_means.rename(columns=removemod, inplace=True)"
   ]
  },
  {
   "cell_type": "code",
   "execution_count": 28,
   "id": "739bdc2f-1203-47e5-b5de-bfbf211db30d",
   "metadata": {},
   "outputs": [],
   "source": [
    "combined_nsclc = nsclc_pred.merge(nsclc_quant, left_on='uuid', right_on='uuid')\n",
    "nsclc_probs.columns = [str(col) + '_prob' if col != 'uuid' else str(col) for col in nsclc_probs.columns ]\n",
    "combined_nsclc = combined_nsclc.merge(nsclc_probs, left_on='uuid', right_on='uuid')"
   ]
  },
  {
   "cell_type": "markdown",
   "id": "ebd4d24f-7870-4a06-9417-a6af41015bbc",
   "metadata": {},
   "source": [
    "## Generate Marker Columns"
   ]
  },
  {
   "cell_type": "code",
   "execution_count": 29,
   "id": "82cf5aa3-92ea-4de5-88da-88a017a765a2",
   "metadata": {},
   "outputs": [
    {
     "name": "stderr",
     "output_type": "stream",
     "text": [
      "/tmp/ipykernel_398004/3675735263.py:7: UserWarning: Pandas doesn't allow columns to be created via a new attribute name - see https://pandas.pydata.org/pandas-docs/stable/indexing.html#attribute-access\n",
      "  nsclc.X = combined_nsclc[col_ids + [col+'_prob' for col in col_ids]].copy()\n",
      "/tmp/ipykernel_398004/3675735263.py:9: UserWarning: Pandas doesn't allow columns to be created via a new attribute name - see https://pandas.pydata.org/pandas-docs/stable/indexing.html#attribute-access\n",
      "  nsclc.meta = combined_nsclc[['slideid_x', 'uuid', 'X', 'Y', 'celltypes_x', 'newcelltypes', 'clusterid_x', 'neighborhoods_x', 'arearegion_x']].copy()\n",
      "/home/akilgall/miniconda3/envs/analysis/lib/python3.10/site-packages/anndata/_core/aligned_df.py:68: ImplicitModificationWarning: Transforming to str index.\n",
      "  warnings.warn(\"Transforming to str index.\", ImplicitModificationWarning)\n"
     ]
    },
    {
     "data": {
      "text/plain": [
       "AnnData object with n_obs × n_vars = 272027 × 44\n",
       "    obs: 'slideid', 'uuid', 'x', 'y', 'celltypes', 'newcelltypes', 'clusterid', 'neighborhoods', 'arearegion', 'Unnamed: 0', 'inclusion', 'patientid', 'filename', 'cohort', 'tumortype', 'prepost', 'histologytype', 'biopsysite', 'BOR', 'OR', 'CB6', 'PORvsFPD', 'pfs.T', 'pfs.E', 'os.T', 'os.E', 'pfs.6months', 'pfs.12months', 'OS.18months', 'OS.24months', 'Tissue'\n",
       "    uns: 'nsclc_frac_features', 'nsclc_neighbour_features'\n",
       "    obsm: 'spatial', 'marker_positivity'"
      ]
     },
     "execution_count": 29,
     "metadata": {},
     "output_type": "execute_result"
    }
   ],
   "source": [
    "nsclc = pd.DataFrame()\n",
    "col_ids = ['asct2', 'asct2_high','atpa5', 'atpa5_high', 'cd11b', 'cd11c', 'cd14', 'cd163', 'cd19','cd20', 'cd21', 'cd31', 'cd34', 'cd3e', 'cd4', 'cd44', 'cd44_high',\n",
    "       'cd45', 'cd45ro', 'cd57', 'cd68', 'cd8', 'citratesynthase', 'citratesynthase_high', 'col4', 'cpt1a', 'cpt1a_high', 'ecadherin','foxp3', 'g6pd', 'g6pd_high', 'glut1', 'glut1_high', 'granzymeb',\n",
    "       'hexokinase1', 'hexokinase1_high', 'hlaa', 'hlaa_high', 'icos', 'idh2', 'idh2_high', 'ido1', 'ido1_high', 'ki67', 'lag3', 'ldha', 'ldha_high',\n",
    "       'nakatpase', 'pancytokeratin', 'pax5', 'pd1', 'pdl1', 'pdl1_high', 'pnrf2', 'pnrf2_high', 'sdha', 'sdha_high', 'sma', 'vimentin']\n",
    "col_ids = [a.replace('_', '') for a in col_ids]\n",
    "nsclc.X = combined_nsclc[col_ids + [col+'_prob' for col in col_ids]].copy()\n",
    "\n",
    "nsclc.meta = combined_nsclc[['slideid_x', 'uuid', 'X', 'Y', 'celltypes_x', 'newcelltypes', 'clusterid_x', 'neighborhoods_x', 'arearegion_x']].copy()\n",
    "\n",
    "nsclc.meta = nsclc.meta.rename(columns= {'X':\"x\", 'Y':\"y\", 'slideid_x': 'slideid', 'celltypes_x': 'celltypes', 'clusterid_x': 'clusterid', 'neighborhoods_x': 'neighborhoods', 'arearegion_x': 'arearegion'})\n",
    "nsclc.meta = nsclc.meta.merge(nsclc_clinical, on='slideid').reset_index(drop=True)\n",
    "\n",
    "adata = ad.AnnData(nsclcq_means)\n",
    "adata.obs = nsclc.meta\n",
    "\n",
    "spatial=pd.DataFrame(adata.obs[['x','y']])\n",
    "spatial=spatial.to_numpy()\n",
    "adata.obsm[\"spatial\"]=spatial\n",
    "\n",
    "adata.uns['nsclc_frac_features'], adata.uns['nsclc_neighbour_features'] = nsclc_pfeat, nsclc_pneigh\n",
    "adata.obs['Tissue'] = 'NSCLC'\n",
    "adata.obsm['marker_positivity'] = nsclc.X\n",
    "\n",
    "adata.obsm['marker_positivity'].index = adata.obsm['marker_positivity'].index.astype('str')\n",
    "adata.obs.index = adata.obs.index.astype('str')\n",
    "nsclcadata = adata\n",
    "nsclcadata"
   ]
  },
  {
   "cell_type": "markdown",
   "id": "b6412d22-705e-4468-80d5-65ae9d0a7044",
   "metadata": {},
   "source": [
    "## Filter the Histologies"
   ]
  },
  {
   "cell_type": "code",
   "execution_count": 30,
   "id": "2fcef331-9116-46cb-bc6c-17abfc757d5c",
   "metadata": {},
   "outputs": [],
   "source": [
    "rmap = {'histologytype': {'Adenocarcinoma' :'Adenocarcinoma',\n",
    " 'Adenosquamous':'Adenosquamous',\n",
    " 'Large-cell carcinoma':'LCC',\n",
    " 'NOS':'NOS',\n",
    " 'SCLC':'Squamous',\n",
    " 'Squamous':'Squamous'}}\n",
    "\n",
    "nsclcadata.obs.replace(rmap, inplace=True)\n",
    "\n",
    "nsclcadata = nsclcadata[nsclcadata.obs.histologytype.isin(['Adenocarcinoma', 'Adenosquamous', 'Squamous'])]"
   ]
  },
  {
   "cell_type": "code",
   "execution_count": 31,
   "id": "f5f1191a-3354-4715-b564-b59b59e54061",
   "metadata": {},
   "outputs": [
    {
     "data": {
      "text/plain": [
       "View of AnnData object with n_obs × n_vars = 189854 × 44\n",
       "    obs: 'slideid', 'uuid', 'x', 'y', 'celltypes', 'newcelltypes', 'clusterid', 'neighborhoods', 'arearegion', 'Unnamed: 0', 'inclusion', 'patientid', 'filename', 'cohort', 'tumortype', 'prepost', 'histologytype', 'biopsysite', 'BOR', 'OR', 'CB6', 'PORvsFPD', 'pfs.T', 'pfs.E', 'os.T', 'os.E', 'pfs.6months', 'pfs.12months', 'OS.18months', 'OS.24months', 'Tissue'\n",
       "    uns: 'nsclc_frac_features', 'nsclc_neighbour_features'\n",
       "    obsm: 'spatial', 'marker_positivity'"
      ]
     },
     "execution_count": 31,
     "metadata": {},
     "output_type": "execute_result"
    }
   ],
   "source": [
    "nsclcadata"
   ]
  },
  {
   "cell_type": "code",
   "execution_count": 34,
   "id": "81cfb457-1968-4cb1-8659-1b0ed776c1dc",
   "metadata": {},
   "outputs": [
    {
     "data": {
      "text/plain": [
       "82"
      ]
     },
     "execution_count": 34,
     "metadata": {},
     "output_type": "execute_result"
    }
   ],
   "source": [
    "len(nsclcadata.obs['patientid'].unique())"
   ]
  },
  {
   "cell_type": "markdown",
   "id": "73dd44a4-d8a2-4acd-b7e2-6cf495dd8585",
   "metadata": {},
   "source": [
    "## Convert Cell Type Labels"
   ]
  },
  {
   "cell_type": "code",
   "execution_count": 35,
   "id": "47c005ce-642f-4659-86b8-1750f44ea6d6",
   "metadata": {},
   "outputs": [
    {
     "data": {
      "text/plain": [
       "celltypes\n",
       "tumor_cells          78655\n",
       "macrophages          26488\n",
       "cd4_t_cells          16302\n",
       "fibroblasts          12382\n",
       "myofibroblasts       11872\n",
       "cd8_t_cells           8614\n",
       "endothilial_cells     6893\n",
       "immune_nos            5666\n",
       "other                 5636\n",
       "granulocytes          4781\n",
       "cd4_tregs             3661\n",
       "plasma_cells          3216\n",
       "b_cells               3130\n",
       "myeloid_nos           2466\n",
       "artifact_cells          92\n",
       "Name: count, dtype: int64"
      ]
     },
     "execution_count": 35,
     "metadata": {},
     "output_type": "execute_result"
    }
   ],
   "source": [
    "nsclcadata.obs['celltypes'].value_counts()"
   ]
  },
  {
   "cell_type": "code",
   "execution_count": 36,
   "id": "96bac346-c6a9-4413-ac8a-dc497f8f6dd0",
   "metadata": {},
   "outputs": [
    {
     "name": "stderr",
     "output_type": "stream",
     "text": [
      "/home/akilgall/miniconda3/envs/analysis/lib/python3.10/site-packages/pandas/core/generic.py:6329: ImplicitModificationWarning: Trying to modify attribute `.obs` of view, initializing view as actual.\n",
      "  self[name] = value\n"
     ]
    }
   ],
   "source": [
    "celltypeconversion = {\n",
    "     'artifact_cells': 'artifactcells',\n",
    "     'b_cells': 'bcells',\n",
    "     'cd4_t_cells': 'cd4tcells',\n",
    "     'cd4_tregs': 'cd4tregcells',\n",
    "     'cd8_t_cells': 'cd8tcells',\n",
    "     'endothilial_cells': 'endothilialcells',\n",
    "     'fibroblasts': 'fibroblastcells',\n",
    "     'granulocytes': 'granulocytecells',\n",
    "     'immune_nos': 'immunenoscells',\n",
    "     'macrophages': 'macrophagecells',\n",
    "     'myeloid_nos': 'myeloidnoscells',\n",
    "     'myofibroblasts': 'myofibroblastcells',\n",
    "     'other': 'othercells',\n",
    "     'plasma_cells': 'plasmacells',\n",
    "     'tumor_cells': 'tumorcells'}\n",
    "\n",
    "nsclcadata.obs.celltypes = nsclcadata.obs.celltypes.map(celltypeconversion)"
   ]
  },
  {
   "cell_type": "code",
   "execution_count": 37,
   "id": "d87ad7f5-aa29-4273-862c-8cea98dca1f6",
   "metadata": {},
   "outputs": [],
   "source": [
    "nsclcadata.write(r'AnnDataFiles/1-output_nsclc_ytma_raw_preandpost.h5ad')"
   ]
  }
 ],
 "metadata": {
  "kernelspec": {
   "display_name": "Python 3 (ipykernel)",
   "language": "python",
   "name": "python3"
  },
  "language_info": {
   "codemirror_mode": {
    "name": "ipython",
    "version": 3
   },
   "file_extension": ".py",
   "mimetype": "text/x-python",
   "name": "python",
   "nbconvert_exporter": "python",
   "pygments_lexer": "ipython3",
   "version": "3.10.16"
  }
 },
 "nbformat": 4,
 "nbformat_minor": 5
}
